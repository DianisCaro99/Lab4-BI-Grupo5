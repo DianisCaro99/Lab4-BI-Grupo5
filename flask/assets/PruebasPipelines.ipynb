{
 "cells": [
  {
   "cell_type": "code",
   "execution_count": 140,
   "id": "c6073ab6-2c9b-407d-8323-acad1e42234d",
   "metadata": {},
   "outputs": [],
   "source": [
    "import pandas as pd\n",
    "from sklearn.base import BaseEstimator, TransformerMixin\n",
    "from sklearn.compose import ColumnTransformer\n",
    "from sklearn.preprocessing import StandardScaler\n",
    "from sklearn.pipeline import Pipeline\n",
    "from sklearn.linear_model import LinearRegression\n",
    "from joblib import dump, load\n",
    "import json\n",
    "from sklearn.metrics import r2_score"
   ]
  },
  {
   "cell_type": "markdown",
   "id": "b11cfd5b-5ce0-4d2c-98f9-7c9c60f51cd5",
   "metadata": {},
   "source": [
    "# Pipelines"
   ]
  },
  {
   "cell_type": "markdown",
   "id": "5428444c-5f9a-4b29-a7c4-aff6ee4ffa36",
   "metadata": {},
   "source": [
    "Para el funcionamiento del API se tienen dos pipelines principales, que incluyen un transformador personalizado y son cargados mediante joblib. Además, estos pipelines se exportaron del laboratorio anterior con el modelo entrenado."
   ]
  },
  {
   "cell_type": "code",
   "execution_count": 212,
   "id": "81591a33-180b-406c-b0fc-c0cb4a0a6a65",
   "metadata": {},
   "outputs": [],
   "source": [
    "pipe1 = load('preparacion.joblib')\n",
    "pipe2 = load('prediccion.joblib')"
   ]
  },
  {
   "cell_type": "markdown",
   "id": "5837c830-f505-464d-a607-04bbdbc0c85b",
   "metadata": {},
   "source": [
    "El primer pipeline, contiene únicamente un transformador de preparación de los datos que permite eliminar los registros que se definieron como atípicos en el laboratorio anterior. Este transformador se encuentra a continuación:"
   ]
  },
  {
   "cell_type": "code",
   "execution_count": 213,
   "id": "bedb6ba3-bc0e-4a18-8c93-0518d0f31769",
   "metadata": {},
   "outputs": [
    {
     "data": {
      "text/plain": [
       "Pipeline(steps=[('preparacion', PreparacionTransformer())])"
      ]
     },
     "execution_count": 213,
     "metadata": {},
     "output_type": "execute_result"
    }
   ],
   "source": [
    "pipe1"
   ]
  },
  {
   "cell_type": "code",
   "execution_count": 122,
   "id": "eb4afc26-05ad-482b-b98e-826c0a68e08b",
   "metadata": {},
   "outputs": [],
   "source": [
    "class PreparacionTransformer(BaseEstimator,TransformerMixin):\n",
    "    def __init__(self):\n",
    "        pass\n",
    "    def fit(self, X, y=None):\n",
    "        return self\n",
    "    def transform(self, X, y=None):\n",
    "        X_ = X.copy()\n",
    "        X_ = X_[(X_['Life expectancy']>0) & (X_['BMI']>=15)\n",
    "        & (X_['BMI']<=50) & (X_['Income composition of resources']>0)\n",
    "        & (X_['Adult Mortality']>0) & (X_['thinness  10-19 years']<15)\n",
    "        & (X_['thinness 5-9 years']<15) & (X_['HIV/AIDS']<1)\n",
    "        & (X_['Adult Mortality']<400)]\n",
    "        return X_"
   ]
  },
  {
   "cell_type": "markdown",
   "id": "3463e307-34e2-4d86-9c1b-1c3b8d553980",
   "metadata": {},
   "source": [
    "Por otro lado, el segundo pipeline se encarga del preparamiento de los datos para el modelo, es decir, seleccionar únicamente las columnas con las que fue entrenado, estandarizar los datos y finalmente, usar estas transformaciones para predecir mediante la regresión lineal entrenada."
   ]
  },
  {
   "cell_type": "code",
   "execution_count": 214,
   "id": "5913bfbb-3298-4eec-b1d9-a1424a0c3427",
   "metadata": {},
   "outputs": [
    {
     "data": {
      "text/plain": [
       "Pipeline(steps=[('initial',\n",
       "                 ColumnTransformer(transformers=[('selector', 'passthrough',\n",
       "                                                  ['Income composition of '\n",
       "                                                   'resources',\n",
       "                                                   'Schooling', 'BMI',\n",
       "                                                   'Adult Mortality',\n",
       "                                                   'HIV/AIDS',\n",
       "                                                   'thinness  10-19 years',\n",
       "                                                   'thinness 5-9 years'])])),\n",
       "                ('scale', StandardScaler()), ('model', LinearRegression())])"
      ]
     },
     "execution_count": 214,
     "metadata": {},
     "output_type": "execute_result"
    }
   ],
   "source": [
    "pipe2"
   ]
  },
  {
   "cell_type": "markdown",
   "id": "2721bc9b-fb12-47ff-8cd6-1fe55aa5b428",
   "metadata": {},
   "source": [
    "Finalmente, se elaboraron dos funciones, cada una para resolver un requerimiento del API elaborado. La función \"conjuntoDatos\" permite evaluar varios registros para conocer el error R^2 del modelo para esa predicción, y la función \"registro\" permite predecir la expectativa de vida para un único registro."
   ]
  },
  {
   "cell_type": "code",
   "execution_count": 182,
   "id": "a556c7fd-de76-4409-8d48-bb9cb8fb8658",
   "metadata": {},
   "outputs": [],
   "source": [
    "def conjuntoDatos(X):\n",
    "    try:\n",
    "        register_t = pipe1.transform(X)\n",
    "        X_ = register_t.drop('Life expectancy', axis = 1)\n",
    "        y = register_t['Life expectancy']\n",
    "        if (len(X_)==0):\n",
    "            return \"Después de realizar la limpieza de datos se identificó que todos los registros eran atípicos\"\n",
    "        prediction = pipe2.predict(X_)\n",
    "    except KeyError:\n",
    "        return \"Las columnas de los datos no coinciden con las del modelo\"\n",
    "    except:\n",
    "        return \"Ocurrió un error evaluando los datos en el modelo\"\n",
    "    return round(pipe2.score(X_,y),3)"
   ]
  },
  {
   "cell_type": "code",
   "execution_count": 216,
   "id": "65667e12-b08f-44ab-995a-114b9c426aa8",
   "metadata": {},
   "outputs": [],
   "source": [
    "def registro(X):\n",
    "    try:\n",
    "        prediction = pipe2.predict(X)[0]\n",
    "    except ValueError:\n",
    "        return \"No se encuentran todas las columnas necesarias para evaluar el registro con el modelo\"\n",
    "    except RuntimeError as e:\n",
    "        return \"Hay columnas que no corresponden con las que se entrenó el modelo\"+e\n",
    "    except:\n",
    "        return \"Ocurrió un error en la predicción\"\n",
    "    return prediction"
   ]
  },
  {
   "cell_type": "code",
   "execution_count": null,
   "id": "b18a1132-500f-4842-bc4e-d7f0a82c08e1",
   "metadata": {},
   "outputs": [],
   "source": [
    "pd.read_json('json')"
   ]
  },
  {
   "cell_type": "code",
   "execution_count": 217,
   "id": "a700582d-c8d1-4cde-a604-ae31b4d5f6ea",
   "metadata": {},
   "outputs": [
    {
     "ename": "TypeError",
     "evalue": "can only concatenate str (not \"RuntimeError\") to str",
     "output_type": "error",
     "traceback": [
      "\u001b[1;31m---------------------------------------------------------------------------\u001b[0m",
      "\u001b[1;31mRuntimeError\u001b[0m                              Traceback (most recent call last)",
      "\u001b[1;32m~\\AppData\\Local\\Temp/ipykernel_23616/1253141225.py\u001b[0m in \u001b[0;36mregistro\u001b[1;34m(X)\u001b[0m\n\u001b[0;32m      2\u001b[0m     \u001b[1;32mtry\u001b[0m\u001b[1;33m:\u001b[0m\u001b[1;33m\u001b[0m\u001b[1;33m\u001b[0m\u001b[0m\n\u001b[1;32m----> 3\u001b[1;33m         \u001b[0mprediction\u001b[0m \u001b[1;33m=\u001b[0m \u001b[0mpipe2\u001b[0m\u001b[1;33m.\u001b[0m\u001b[0mpredict\u001b[0m\u001b[1;33m(\u001b[0m\u001b[0mX\u001b[0m\u001b[1;33m)\u001b[0m\u001b[1;33m[\u001b[0m\u001b[1;36m0\u001b[0m\u001b[1;33m]\u001b[0m\u001b[1;33m\u001b[0m\u001b[1;33m\u001b[0m\u001b[0m\n\u001b[0m\u001b[0;32m      4\u001b[0m     \u001b[1;32mexcept\u001b[0m \u001b[0mValueError\u001b[0m\u001b[1;33m:\u001b[0m\u001b[1;33m\u001b[0m\u001b[1;33m\u001b[0m\u001b[0m\n",
      "\u001b[1;32m~\\anaconda3\\lib\\site-packages\\sklearn\\utils\\metaestimators.py\u001b[0m in \u001b[0;36m<lambda>\u001b[1;34m(*args, **kwargs)\u001b[0m\n\u001b[0;32m    119\u001b[0m         \u001b[1;31m# lambda, but not partial, allows help() to work with update_wrapper\u001b[0m\u001b[1;33m\u001b[0m\u001b[1;33m\u001b[0m\u001b[0m\n\u001b[1;32m--> 120\u001b[1;33m         \u001b[0mout\u001b[0m \u001b[1;33m=\u001b[0m \u001b[1;32mlambda\u001b[0m \u001b[1;33m*\u001b[0m\u001b[0margs\u001b[0m\u001b[1;33m,\u001b[0m \u001b[1;33m**\u001b[0m\u001b[0mkwargs\u001b[0m\u001b[1;33m:\u001b[0m \u001b[0mself\u001b[0m\u001b[1;33m.\u001b[0m\u001b[0mfn\u001b[0m\u001b[1;33m(\u001b[0m\u001b[0mobj\u001b[0m\u001b[1;33m,\u001b[0m \u001b[1;33m*\u001b[0m\u001b[0margs\u001b[0m\u001b[1;33m,\u001b[0m \u001b[1;33m**\u001b[0m\u001b[0mkwargs\u001b[0m\u001b[1;33m)\u001b[0m\u001b[1;33m\u001b[0m\u001b[1;33m\u001b[0m\u001b[0m\n\u001b[0m\u001b[0;32m    121\u001b[0m         \u001b[1;31m# update the docstring of the returned function\u001b[0m\u001b[1;33m\u001b[0m\u001b[1;33m\u001b[0m\u001b[0m\n",
      "\u001b[1;32m~\\anaconda3\\lib\\site-packages\\sklearn\\pipeline.py\u001b[0m in \u001b[0;36mpredict\u001b[1;34m(self, X, **predict_params)\u001b[0m\n\u001b[0;32m    417\u001b[0m         \u001b[1;32mfor\u001b[0m \u001b[0m_\u001b[0m\u001b[1;33m,\u001b[0m \u001b[0mname\u001b[0m\u001b[1;33m,\u001b[0m \u001b[0mtransform\u001b[0m \u001b[1;32min\u001b[0m \u001b[0mself\u001b[0m\u001b[1;33m.\u001b[0m\u001b[0m_iter\u001b[0m\u001b[1;33m(\u001b[0m\u001b[0mwith_final\u001b[0m\u001b[1;33m=\u001b[0m\u001b[1;32mFalse\u001b[0m\u001b[1;33m)\u001b[0m\u001b[1;33m:\u001b[0m\u001b[1;33m\u001b[0m\u001b[1;33m\u001b[0m\u001b[0m\n\u001b[1;32m--> 418\u001b[1;33m             \u001b[0mXt\u001b[0m \u001b[1;33m=\u001b[0m \u001b[0mtransform\u001b[0m\u001b[1;33m.\u001b[0m\u001b[0mtransform\u001b[0m\u001b[1;33m(\u001b[0m\u001b[0mXt\u001b[0m\u001b[1;33m)\u001b[0m\u001b[1;33m\u001b[0m\u001b[1;33m\u001b[0m\u001b[0m\n\u001b[0m\u001b[0;32m    419\u001b[0m         \u001b[1;32mreturn\u001b[0m \u001b[0mself\u001b[0m\u001b[1;33m.\u001b[0m\u001b[0msteps\u001b[0m\u001b[1;33m[\u001b[0m\u001b[1;33m-\u001b[0m\u001b[1;36m1\u001b[0m\u001b[1;33m]\u001b[0m\u001b[1;33m[\u001b[0m\u001b[1;33m-\u001b[0m\u001b[1;36m1\u001b[0m\u001b[1;33m]\u001b[0m\u001b[1;33m.\u001b[0m\u001b[0mpredict\u001b[0m\u001b[1;33m(\u001b[0m\u001b[0mXt\u001b[0m\u001b[1;33m,\u001b[0m \u001b[1;33m**\u001b[0m\u001b[0mpredict_params\u001b[0m\u001b[1;33m)\u001b[0m\u001b[1;33m\u001b[0m\u001b[1;33m\u001b[0m\u001b[0m\n",
      "\u001b[1;32m~\\anaconda3\\lib\\site-packages\\sklearn\\compose\\_column_transformer.py\u001b[0m in \u001b[0;36mtransform\u001b[1;34m(self, X)\u001b[0m\n\u001b[0;32m    559\u001b[0m                 np.any(self._feature_names_in != X_feature_names)):\n\u001b[1;32m--> 560\u001b[1;33m             raise RuntimeError(\n\u001b[0m\u001b[0;32m    561\u001b[0m                 \u001b[1;34m\"Given feature/column names do not match the ones for the \"\u001b[0m\u001b[1;33m\u001b[0m\u001b[1;33m\u001b[0m\u001b[0m\n",
      "\u001b[1;31mRuntimeError\u001b[0m: Given feature/column names do not match the ones for the data given during fit.",
      "\nDuring handling of the above exception, another exception occurred:\n",
      "\u001b[1;31mTypeError\u001b[0m                                 Traceback (most recent call last)",
      "\u001b[1;32m~\\AppData\\Local\\Temp/ipykernel_23616/965862890.py\u001b[0m in \u001b[0;36m<module>\u001b[1;34m\u001b[0m\n\u001b[1;32m----> 1\u001b[1;33m registro(pd.read_json('''\n\u001b[0m\u001b[0;32m      2\u001b[0m [\n\u001b[0;32m      3\u001b[0m    { \n\u001b[0;32m      4\u001b[0m       \u001b[1;34m\"Adult Mortality\"\u001b[0m\u001b[1;33m:\u001b[0m\u001b[1;36m241.0\u001b[0m\u001b[1;33m,\u001b[0m\u001b[1;33m\u001b[0m\u001b[1;33m\u001b[0m\u001b[0m\n\u001b[0;32m      5\u001b[0m       \u001b[1;34m\"infant deaths\"\u001b[0m\u001b[1;33m:\u001b[0m\u001b[1;36m6\u001b[0m\u001b[1;33m,\u001b[0m\u001b[1;33m\u001b[0m\u001b[1;33m\u001b[0m\u001b[0m\n",
      "\u001b[1;32m~\\AppData\\Local\\Temp/ipykernel_23616/1253141225.py\u001b[0m in \u001b[0;36mregistro\u001b[1;34m(X)\u001b[0m\n\u001b[0;32m      5\u001b[0m         \u001b[1;32mreturn\u001b[0m \u001b[1;34m\"No se encuentran todas las columnas necesarias para evaluar el registro con el modelo\"\u001b[0m\u001b[1;33m\u001b[0m\u001b[1;33m\u001b[0m\u001b[0m\n\u001b[0;32m      6\u001b[0m     \u001b[1;32mexcept\u001b[0m \u001b[0mRuntimeError\u001b[0m \u001b[1;32mas\u001b[0m \u001b[0me\u001b[0m\u001b[1;33m:\u001b[0m\u001b[1;33m\u001b[0m\u001b[1;33m\u001b[0m\u001b[0m\n\u001b[1;32m----> 7\u001b[1;33m         \u001b[1;32mreturn\u001b[0m \u001b[1;34m\"Hay columnas que no corresponden con las que se entrenó el modelo\"\u001b[0m\u001b[1;33m+\u001b[0m\u001b[0me\u001b[0m\u001b[1;33m\u001b[0m\u001b[1;33m\u001b[0m\u001b[0m\n\u001b[0m\u001b[0;32m      8\u001b[0m     \u001b[1;32mexcept\u001b[0m\u001b[1;33m:\u001b[0m\u001b[1;33m\u001b[0m\u001b[1;33m\u001b[0m\u001b[0m\n\u001b[0;32m      9\u001b[0m         \u001b[1;32mreturn\u001b[0m \u001b[1;34m\"Ocurrió un error en la predicción\"\u001b[0m\u001b[1;33m\u001b[0m\u001b[1;33m\u001b[0m\u001b[0m\n",
      "\u001b[1;31mTypeError\u001b[0m: can only concatenate str (not \"RuntimeError\") to str"
     ]
    }
   ],
   "source": [
    "registro(pd.read_json('''\n",
    "[\n",
    "   { \n",
    "      \"Adult Mortality\":241.0, \n",
    "      \"infant deaths\":6, \n",
    "      \"Alcohol\":2.58, \n",
    "      \"percentage expenditure\":0.358651421, \n",
    "      \"Hepatitis B\":98.0, \n",
    "      \"Measles\":59, \n",
    "      \"BMI\":42.0, \n",
    "      \"under-five deaths\":8, \n",
    "      \"Polio\":98.0, \n",
    "      \"Total expenditure\":2.16, \n",
    "      \"Diphtheria\":98.0, \n",
    "      \"HIV\\\\/AIDS\":0.1, \n",
    "      \"GDP\":26.371428, \n",
    "      \"Population\":487137.0, \n",
    "      \"thinness 10-19 years\":3.3, \n",
    "      \"thinness 5-9 years\":3.3, \n",
    "      \"Income composition of resources\":0.0, \n",
    "      \"Schooling\":10.4 \n",
    "   } \n",
    "] \n",
    "'''))"
   ]
  },
  {
   "cell_type": "code",
   "execution_count": null,
   "id": "07b5c5e8-8b60-43c9-95af-61a0fe3275a4",
   "metadata": {},
   "outputs": [],
   "source": []
  }
 ],
 "metadata": {
  "kernelspec": {
   "display_name": "Python 3 (ipykernel)",
   "language": "python",
   "name": "python3"
  },
  "language_info": {
   "codemirror_mode": {
    "name": "ipython",
    "version": 3
   },
   "file_extension": ".py",
   "mimetype": "text/x-python",
   "name": "python",
   "nbconvert_exporter": "python",
   "pygments_lexer": "ipython3",
   "version": "3.9.7"
  }
 },
 "nbformat": 4,
 "nbformat_minor": 5
}
