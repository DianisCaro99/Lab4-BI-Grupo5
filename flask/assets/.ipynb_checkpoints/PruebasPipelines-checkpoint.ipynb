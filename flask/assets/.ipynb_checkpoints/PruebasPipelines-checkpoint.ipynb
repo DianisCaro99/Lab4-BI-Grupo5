{
 "cells": [
  {
   "cell_type": "code",
   "execution_count": 4,
   "id": "c6073ab6-2c9b-407d-8323-acad1e42234d",
   "metadata": {},
   "outputs": [],
   "source": [
    "import pandas as pd\n",
    "from sklearn.base import BaseEstimator, TransformerMixin\n",
    "from sklearn.compose import ColumnTransformer\n",
    "from sklearn.preprocessing import StandardScaler\n",
    "from sklearn.pipeline import Pipeline\n",
    "from sklearn.linear_model import LinearRegression\n",
    "from joblib import dump, load\n",
    "import json\n",
    "from sklearn.metrics import r2_score"
   ]
  },
  {
   "cell_type": "markdown",
   "id": "b11cfd5b-5ce0-4d2c-98f9-7c9c60f51cd5",
   "metadata": {},
   "source": [
    "# Pipelines"
   ]
  },
  {
   "cell_type": "markdown",
   "id": "5428444c-5f9a-4b29-a7c4-aff6ee4ffa36",
   "metadata": {},
   "source": [
    "Para el funcionamiento del API se tienen dos pipelines principales, que incluyen un transformador personalizado y son cargados mediante joblib. Además, estos pipelines se exportaron del laboratorio anterior con el modelo entrenado."
   ]
  },
  {
   "cell_type": "code",
   "execution_count": 6,
   "id": "81591a33-180b-406c-b0fc-c0cb4a0a6a65",
   "metadata": {},
   "outputs": [
    {
     "name": "stderr",
     "output_type": "stream",
     "text": [
      "/opt/homebrew/Caskroom/miniforge/base/envs/default_env/lib/python3.8/site-packages/sklearn/base.py:329: UserWarning: Trying to unpickle estimator Pipeline from version 0.24.2 when using version 1.0.2. This might lead to breaking code or invalid results. Use at your own risk. For more info please refer to:\n",
      "https://scikit-learn.org/stable/modules/model_persistence.html#security-maintainability-limitations\n",
      "  warnings.warn(\n",
      "/opt/homebrew/Caskroom/miniforge/base/envs/default_env/lib/python3.8/site-packages/sklearn/base.py:329: UserWarning: Trying to unpickle estimator ColumnTransformer from version 0.24.2 when using version 1.0.2. This might lead to breaking code or invalid results. Use at your own risk. For more info please refer to:\n",
      "https://scikit-learn.org/stable/modules/model_persistence.html#security-maintainability-limitations\n",
      "  warnings.warn(\n",
      "/opt/homebrew/Caskroom/miniforge/base/envs/default_env/lib/python3.8/site-packages/sklearn/base.py:329: UserWarning: Trying to unpickle estimator StandardScaler from version 0.24.2 when using version 1.0.2. This might lead to breaking code or invalid results. Use at your own risk. For more info please refer to:\n",
      "https://scikit-learn.org/stable/modules/model_persistence.html#security-maintainability-limitations\n",
      "  warnings.warn(\n",
      "/opt/homebrew/Caskroom/miniforge/base/envs/default_env/lib/python3.8/site-packages/sklearn/base.py:329: UserWarning: Trying to unpickle estimator LinearRegression from version 0.24.2 when using version 1.0.2. This might lead to breaking code or invalid results. Use at your own risk. For more info please refer to:\n",
      "https://scikit-learn.org/stable/modules/model_persistence.html#security-maintainability-limitations\n",
      "  warnings.warn(\n"
     ]
    }
   ],
   "source": [
    "pipe1 = load('preparacion.joblib')\n",
    "pipe2 = load('prediccion.joblib')"
   ]
  },
  {
   "cell_type": "markdown",
   "id": "5837c830-f505-464d-a607-04bbdbc0c85b",
   "metadata": {},
   "source": [
    "El primer pipeline, contiene únicamente un transformador de preparación de los datos que permite eliminar los registros que se definieron como atípicos en el laboratorio anterior. Este transformador se encuentra a continuación:"
   ]
  },
  {
   "cell_type": "code",
   "execution_count": 213,
   "id": "bedb6ba3-bc0e-4a18-8c93-0518d0f31769",
   "metadata": {},
   "outputs": [
    {
     "data": {
      "text/plain": [
       "Pipeline(steps=[('preparacion', PreparacionTransformer())])"
      ]
     },
     "execution_count": 213,
     "metadata": {},
     "output_type": "execute_result"
    }
   ],
   "source": [
    "pipe1"
   ]
  },
  {
   "cell_type": "code",
   "execution_count": 5,
   "id": "eb4afc26-05ad-482b-b98e-826c0a68e08b",
   "metadata": {},
   "outputs": [],
   "source": [
    "class PreparacionTransformer(BaseEstimator,TransformerMixin):\n",
    "    def __init__(self):\n",
    "        pass\n",
    "    def fit(self, X, y=None):\n",
    "        return self\n",
    "    def transform(self, X, y=None):\n",
    "        X_ = X.copy()\n",
    "        X_ = X_[(X_['Life expectancy']>0) & (X_['BMI']>=15)\n",
    "        & (X_['BMI']<=50) & (X_['Income composition of resources']>0)\n",
    "        & (X_['Adult Mortality']>0) & (X_['thinness  10-19 years']<15)\n",
    "        & (X_['thinness 5-9 years']<15) & (X_['HIV/AIDS']<1)\n",
    "        & (X_['Adult Mortality']<400)]\n",
    "        return X_"
   ]
  },
  {
   "cell_type": "markdown",
   "id": "3463e307-34e2-4d86-9c1b-1c3b8d553980",
   "metadata": {},
   "source": [
    "Por otro lado, el segundo pipeline se encarga del preparamiento de los datos para el modelo, es decir, seleccionar únicamente las columnas con las que fue entrenado, estandarizar los datos y finalmente, usar estas transformaciones para predecir mediante la regresión lineal entrenada."
   ]
  },
  {
   "cell_type": "code",
   "execution_count": 214,
   "id": "5913bfbb-3298-4eec-b1d9-a1424a0c3427",
   "metadata": {},
   "outputs": [
    {
     "data": {
      "text/plain": [
       "Pipeline(steps=[('initial',\n",
       "                 ColumnTransformer(transformers=[('selector', 'passthrough',\n",
       "                                                  ['Income composition of '\n",
       "                                                   'resources',\n",
       "                                                   'Schooling', 'BMI',\n",
       "                                                   'Adult Mortality',\n",
       "                                                   'HIV/AIDS',\n",
       "                                                   'thinness  10-19 years',\n",
       "                                                   'thinness 5-9 years'])])),\n",
       "                ('scale', StandardScaler()), ('model', LinearRegression())])"
      ]
     },
     "execution_count": 214,
     "metadata": {},
     "output_type": "execute_result"
    }
   ],
   "source": [
    "pipe2"
   ]
  },
  {
   "cell_type": "markdown",
   "id": "2721bc9b-fb12-47ff-8cd6-1fe55aa5b428",
   "metadata": {},
   "source": [
    "Finalmente, se elaboraron dos funciones, cada una para resolver un requerimiento del API elaborado. La función \"conjuntoDatos\" permite evaluar varios registros para conocer el error R^2 del modelo para esa predicción, y la función \"registro\" permite predecir la expectativa de vida para un único registro."
   ]
  },
  {
   "cell_type": "code",
   "execution_count": 182,
   "id": "a556c7fd-de76-4409-8d48-bb9cb8fb8658",
   "metadata": {},
   "outputs": [],
   "source": [
    "def conjuntoDatos(X):\n",
    "    try:\n",
    "        register_t = pipe1.transform(X)\n",
    "        X_ = register_t.drop('Life expectancy', axis = 1)\n",
    "        y = register_t['Life expectancy']\n",
    "        if (len(X_)==0):\n",
    "            return \"Después de realizar la limpieza de datos se identificó que todos los registros eran atípicos\"\n",
    "        prediction = pipe2.predict(X_)\n",
    "    except KeyError:\n",
    "        return \"Las columnas de los datos no coinciden con las del modelo\"\n",
    "    except:\n",
    "        return \"Ocurrió un error evaluando los datos en el modelo\"\n",
    "    return round(pipe2.score(X_,y),3)"
   ]
  },
  {
   "cell_type": "code",
   "execution_count": 7,
   "id": "65667e12-b08f-44ab-995a-114b9c426aa8",
   "metadata": {},
   "outputs": [],
   "source": [
    "def registro(X):\n",
    "    try:\n",
    "        prediction = pipe2.predict(X)[0]\n",
    "    except ValueError:\n",
    "        return \"No se encuentran todas las columnas necesarias para evaluar el registro con el modelo\"\n",
    "    except RuntimeError as e:\n",
    "        return \"Hay columnas que no corresponden con las que se entrenó el modelo\"\n",
    "    except:\n",
    "        return \"Ocurrió un error en la predicción\"\n",
    "    return prediction"
   ]
  },
  {
   "cell_type": "code",
   "execution_count": null,
   "id": "b18a1132-500f-4842-bc4e-d7f0a82c08e1",
   "metadata": {},
   "outputs": [],
   "source": [
    "pd.read_json('json')"
   ]
  },
  {
   "cell_type": "code",
   "execution_count": 9,
   "id": "a700582d-c8d1-4cde-a604-ae31b4d5f6ea",
   "metadata": {},
   "outputs": [
    {
     "data": {
      "text/plain": [
       "'Ocurrió un error en la predicción'"
      ]
     },
     "execution_count": 9,
     "metadata": {},
     "output_type": "execute_result"
    }
   ],
   "source": [
    "registro(pd.read_json('''\n",
    "[\n",
    "   { \n",
    "      \"Adult Mortality\":241.0, \n",
    "      \"infant deaths\":6, \n",
    "      \"Alcohol\":2.58, \n",
    "      \"percentage expenditure\":0.358651421, \n",
    "      \"Hepatitis B\":98.0, \n",
    "      \"Measles\":59, \n",
    "      \"BMI\":42.0, \n",
    "      \"under-five deaths\":8, \n",
    "      \"Polio\":98.0, \n",
    "      \"Total expenditure\":2.16, \n",
    "      \"Diphtheria\":98.0, \n",
    "      \"HIV\\\\/AIDS\":0.1, \n",
    "      \"GDP\":26.371428, \n",
    "      \"Population\":487137.0, \n",
    "      \"thinness 10-19 years\":3.3, \n",
    "      \"thinness 5-9 years\":3.3, \n",
    "      \"Income composition of resources\":0.0, \n",
    "      \"Schooling\":10.4 \n",
    "   } \n",
    "]\n",
    "'''))"
   ]
  },
  {
   "cell_type": "code",
   "execution_count": null,
   "id": "07b5c5e8-8b60-43c9-95af-61a0fe3275a4",
   "metadata": {},
   "outputs": [],
   "source": []
  }
 ],
 "metadata": {
  "kernelspec": {
   "display_name": "Python 3 (ipykernel)",
   "language": "python",
   "name": "python3"
  },
  "language_info": {
   "codemirror_mode": {
    "name": "ipython",
    "version": 3
   },
   "file_extension": ".py",
   "mimetype": "text/x-python",
   "name": "python",
   "nbconvert_exporter": "python",
   "pygments_lexer": "ipython3",
   "version": "3.8.12"
  }
 },
 "nbformat": 4,
 "nbformat_minor": 5
}
